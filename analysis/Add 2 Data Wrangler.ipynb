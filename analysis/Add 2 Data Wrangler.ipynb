{
 "cells": [
  {
   "cell_type": "code",
   "execution_count": 31,
   "metadata": {
    "collapsed": false
   },
   "outputs": [],
   "source": [
    "%matplotlib inline\n",
    "\n",
    "import json\n",
    "import pandas as pd\n",
    "import glob\n",
    "import numpy as np\n",
    "from datetime import datetime\n",
    "from plotnine import *\n",
    "import scipy\n",
    "import sklearn\n",
    "import statsmodels.api as sm\n",
    "from tqdm import tqdm_notebook"
   ]
  },
  {
   "cell_type": "code",
   "execution_count": 153,
   "metadata": {
    "collapsed": true
   },
   "outputs": [],
   "source": [
    "def parse_timestring(s):\n",
    "    return datetime.strptime(s, '%Y-%m-%dT%H:%M:%S.%fZ')\n",
    "\n",
    "def drop_constants(df):\n",
    "    return df.loc[:, (df != df.iloc[0]).any()]\n",
    "\n",
    "def anonymize(df, column):\n",
    "    df = pd.DataFrame(df)\n",
    "    values = df[column].unique()\n",
    "    indices = {v: i for v, i in zip(values, range(len(values)))}\n",
    "    df[column] = [indices[v] for v in df[column]]\n",
    "    return df"
   ]
  },
  {
   "cell_type": "code",
   "execution_count": 158,
   "metadata": {
    "collapsed": false
   },
   "outputs": [
    {
     "name": "stdout",
     "output_type": "stream",
     "text": [
      "\n",
      "108\n"
     ]
    }
   ],
   "source": [
    "data_directory = '/Users/andrew/Desktop/add_experiment/data/raw/exp01'\n",
    "\n",
    "raw_data = {}\n",
    "for filename in tqdm_notebook(glob.glob(data_directory + '/*')):\n",
    "    with open(filename) as f:\n",
    "        data = json.load(f)\n",
    "        worker_id = data['hit_params']['workerId']\n",
    "        if worker_id == 'testWorkerId':\n",
    "            continue\n",
    "        raw_data[worker_id] = data\n",
    "        data['start'] = parse_timestring(data['start'])\n",
    "        data['end'] = parse_timestring(data['end'])\n",
    "        data['duration'] = (data['end'] - data['start']).seconds\n",
    "        for datum in data['datastore']:\n",
    "            datum['timestamp'] = parse_timestring(datum['timestamp'])\n",
    "print(len(raw_data))"
   ]
  },
  {
   "cell_type": "code",
   "execution_count": 34,
   "metadata": {
    "collapsed": true
   },
   "outputs": [],
   "source": [
    "\"\"\"\n",
    "Returns a dataframe with the ITI duration and any late keypresses\n",
    "\"\"\"\n",
    "def get_iti_data(raw_data, worker_id):\n",
    "    df = pd.DataFrame(raw_data[worker_id]['datastore'])\n",
    "    \n",
    "    #\n",
    "    iti_next_screen = df[(df.key == 'nextScreenName') & (df.value.str.contains('ITI'))]\n",
    "    iti_next_screen = iti_next_screen.rename({'value': 'nextITI'}, axis=1)\n",
    "    iti_next_screen = iti_next_screen[['screenName', 'nextITI']]\n",
    "    iti_prev_screen = df[(df.key == 'nextScreenName') & (df.screenName.str.contains('ITI'))]\n",
    "    iti_prev_screen = iti_prev_screen.rename({'screenName': 'prevITI', 'value': 'screenName'}, axis=1)\n",
    "    iti_prev_screen = iti_prev_screen[['screenName', 'prevITI']]\n",
    "    \n",
    "    iti_keypress = df[(df.screenName.str.contains('ITI')) & (df.key.str.contains('input'))]\n",
    "    iti_keypress = iti_keypress.append([{'timestamp': '2019-11-12T02:57:20.000Z',\n",
    "                         'type': 'keyPress',\n",
    "                         'value': 9,\n",
    "                         'key': 'input2',\n",
    "                         'screenName': 'calibration_ITI_1'}])\n",
    "    iti_keypress = iti_keypress.groupby('screenName')['value'].apply(lambda x: ''.join([str(i) for i in x])).reset_index()\n",
    "    iti_keypress = iti_keypress.rename({'screenName': 'nextITI', 'value': 'lateResponse'}, axis=1)\n",
    "    \n",
    "    delays = df[df.screenName.str.contains('ITI')\\\n",
    "                & (df.key == 'duration')\\\n",
    "                & (~df.screenName.str.contains('_end'))]\n",
    "    delays = delays.rename({'value': 'delay', 'screenName': 'prevITI'}, axis=1)\n",
    "    delays = delays[['prevITI', 'delay']]\n",
    "    \n",
    "    iti = iti_next_screen.merge(iti_prev_screen, on='screenName')\n",
    "    iti = iti.merge(iti_keypress, on='nextITI', how='left')\n",
    "    iti = iti.merge(delays, on='prevITI', how='left')\n",
    "    iti = iti[['screenName', 'delay', 'lateResponse']]\n",
    "    \n",
    "    return iti"
   ]
  },
  {
   "cell_type": "code",
   "execution_count": 35,
   "metadata": {
    "collapsed": true
   },
   "outputs": [],
   "source": [
    "\"\"\"\n",
    "Returns a dataframe for the RT of first keypress in each screen\n",
    "\"\"\"\n",
    "def get_rt(raw_data, worker_id):\n",
    "    df = pd.DataFrame(raw_data[worker_id]['datastore'])\n",
    "    start_times = df[df.key == 'start'][['screenName', 'timestamp']]\n",
    "    first_inputs = df[df.key == 'input1'][['screenName', 'timestamp']]\n",
    "    times = start_times.merge(first_inputs, how='left', on='screenName')\n",
    "    times['rt'] = [t.total_seconds() for t in (times.timestamp_y - times.timestamp_x)]\n",
    "    times = times[['screenName', 'rt']]\n",
    "    return times"
   ]
  },
  {
   "cell_type": "code",
   "execution_count": 126,
   "metadata": {
    "collapsed": false
   },
   "outputs": [],
   "source": [
    "def make_dataframe(raw_data, min_accuracy=.8):\n",
    "    dataframes = []\n",
    "    for worker_id, data in tqdm_notebook(raw_data.items()):\n",
    "        df = pd.DataFrame(raw_data[worker_id]['datastore'])\n",
    "        \n",
    "        df = df[(df.type.isin({'responseTime', 'response', 'taskDetail'}))]\n",
    "        df = df[(~df.screenName.str.contains('_ITI_')) & (df.type.isin({'responseTime', 'response', 'taskDetail'}))]\n",
    "        df = df.pivot(index='screenName', columns='key', values='value')\n",
    "        df = df.reset_index()\n",
    "        df = df.merge(get_rt(raw_data, worker_id), on='screenName', how='left')\n",
    "        df = df.merge(get_iti_data(raw_data, worker_id), on='screenName', how='left')\n",
    "        \n",
    "        df.rt = [float(s) if not pd.isna(s) else -1 for s in df.rt]\n",
    "        df['segment'] = [s.split('_')[0] for s in df.screenName]\n",
    "        df['warmup'] = df.screenName.str.contains('warmup')\n",
    "        \n",
    "        add2set = []\n",
    "        for record in df.to_records():\n",
    "            if record.segment == 'add2' and not record.warmup:\n",
    "                add2set.append(int(record.screenName.split('_')[-2][-1]))\n",
    "            else:\n",
    "                add2set.append(np.nan)\n",
    "        df['set'] = add2set\n",
    "        df['trial'] = [int(s.split('_')[-1]) for s in df.screenName]\n",
    "        df['correct'] = df.target == df.response\n",
    "        df['worker_id'] = worker_id\n",
    "        df = df[['worker_id', 'segment', 'warmup', 'set', 'trial', 'stimulus', 'target', 'correct', 'response', 'rt', 'lateResponse']]\n",
    "        \n",
    "        accuracy = df[(df.segment == 'add2') & (~df.warmup)].correct.mean()\n",
    "        if accuracy >= min_accuracy:\n",
    "            dataframes.append(df)\n",
    "    return pd.concat(dataframes)"
   ]
  },
  {
   "cell_type": "code",
   "execution_count": 127,
   "metadata": {
    "collapsed": false
   },
   "outputs": [],
   "source": [
    "def calibration_data(raw_data):\n",
    "    \"\"\"\n",
    "    Returns df which contains median RT for each worker and target\n",
    "    and agg_df which contains aggregate RT\n",
    "    \"\"\"\n",
    "    \n",
    "    rows = []\n",
    "    for worker_id, data in raw_data.items():\n",
    "        keyboard = [d for d in data['datastore'] if d['key'] == 'keyboard'][0]\n",
    "        rows.append({'worker_id': worker_id, 'keyboard': keyboard['value']})\n",
    "    keyboard_df = pd.DataFrame(rows)\n",
    "\n",
    "    df = make_dataframe(raw_data)\n",
    "    df = df[(df.segment == 'calibration') & (~df.warmup) & (df.correct)]\n",
    "    df = df[['worker_id', 'target', 'rt']]\n",
    "    df = df.groupby(['worker_id', 'target'], as_index=False).mean().merge(keyboard_df)\n",
    "\n",
    "    sem = df.groupby(['target', 'keyboard']).sem().reset_index()[['target', 'keyboard', 'rt']]\n",
    "    sem = sem.rename({'rt': 'sem'}, axis=1)\n",
    "    mean = df.groupby(['target', 'keyboard']).mean().reset_index()[['target', 'keyboard', 'rt']]\n",
    "    agg_df = sem.merge(mean)\n",
    "    agg_df['target'] = [str(t).zfill(2) for t in agg_df.target]\n",
    "    return df, agg_df"
   ]
  },
  {
   "cell_type": "code",
   "execution_count": 128,
   "metadata": {
    "collapsed": false
   },
   "outputs": [
    {
     "name": "stdout",
     "output_type": "stream",
     "text": [
      "\n",
      "\n"
     ]
    },
    {
     "data": {
      "text/plain": [
       "83"
      ]
     },
     "execution_count": 128,
     "metadata": {},
     "output_type": "execute_result"
    }
   ],
   "source": [
    "df = make_dataframe(raw_data, min_accuracy)\n",
    "calib_df, calib_agg_df = calibration_data(raw_data)\n"
   ]
  },
  {
   "cell_type": "code",
   "execution_count": 148,
   "metadata": {
    "collapsed": false
   },
   "outputs": [
    {
     "name": "stdout",
     "output_type": "stream",
     "text": [
      "\n",
      "\n"
     ]
    }
   ],
   "source": [
    "min_accuracy = .8 # remove participants who have lower accuracy than this\n",
    "\n",
    "df = make_dataframe(raw_data, min_accuracy)\n",
    "calib_df, calib_agg_df = calibration_data(raw_data)\n",
    "\n",
    "calib_rt = calib_df.groupby(['worker_id', 'target']).median().reset_index()\n",
    "calib_rt = {(w, t): rt for w, t, rt in calib_rt.values}\n",
    "df = df[(df.segment == 'add2') & (~df.warmup)]\n",
    "df['rt_adj'] = [rt - calib_rt[(w, t)] if (w, t) in calib_rt else np.nan\n",
    "                for w, t, rt in df[['worker_id', 'target', 'rt']].values]\n",
    "df['trial_overall'] = df.trial + df.set*147\n",
    "df.trial_overall = df.trial_overall.astype(int)\n",
    "\n",
    "df = drop_constants(df)"
   ]
  },
  {
   "cell_type": "code",
   "execution_count": 155,
   "metadata": {
    "collapsed": true
   },
   "outputs": [],
   "source": [
    "df['addend1'] = [int(s.split('+')[0]) for s in df.stimulus]\n",
    "df['addend2'] = [int(s.split('+')[-1]) for s in df.stimulus]\n",
    "means = df.groupby(['worker_id']).mean().reset_index()\n",
    "stdevs = df.groupby(['worker_id']).std().reset_index()\n",
    "mean_rts = {w: rt for w, rt in means[['worker_id', 'rt']].values}\n",
    "mean_rt_adjs = {w: adj_rt for w, adj_rt in means[['worker_id', 'rt_adj']].values}\n",
    "stdev_rts = {w: rt for w, rt in stdevs[['worker_id', 'rt']].values}\n",
    "stdev_rt_adjs = {w: adj_rt for w, adj_rt in stdevs[['worker_id', 'rt_adj']].values}\n",
    "\n",
    "df['z_rt'] = [(rt - mean_rts[w])/stdev_rts[w] for w, rt in df[['worker_id', 'rt']].values]\n",
    "df['z_rt_adj'] = [(rt_adj - mean_rt_adjs[w])/stdev_rt_adjs[w] for w, rt_adj in df[['worker_id', 'rt_adj']].values]\n",
    "\n",
    "df = df[['worker_id', 'set', 'trial', 'trial_overall',\n",
    "    'stimulus', 'addend1', 'addend2', 'target',\n",
    "    'correct', 'response', 'lateResponse',\n",
    "    'rt', 'rt_adj', 'z_rt', 'z_rt_adj']]\n",
    "df = anonymize(df, 'worker_id')"
   ]
  },
  {
   "cell_type": "code",
   "execution_count": 157,
   "metadata": {
    "collapsed": false
   },
   "outputs": [
    {
     "data": {
      "text/html": [
       "<div>\n",
       "<style scoped>\n",
       "    .dataframe tbody tr th:only-of-type {\n",
       "        vertical-align: middle;\n",
       "    }\n",
       "\n",
       "    .dataframe tbody tr th {\n",
       "        vertical-align: top;\n",
       "    }\n",
       "\n",
       "    .dataframe thead th {\n",
       "        text-align: right;\n",
       "    }\n",
       "</style>\n",
       "<table border=\"1\" class=\"dataframe\">\n",
       "  <thead>\n",
       "    <tr style=\"text-align: right;\">\n",
       "      <th></th>\n",
       "      <th>worker_id</th>\n",
       "      <th>set</th>\n",
       "      <th>trial</th>\n",
       "      <th>trial_overall</th>\n",
       "      <th>stimulus</th>\n",
       "      <th>addend1</th>\n",
       "      <th>addend2</th>\n",
       "      <th>target</th>\n",
       "      <th>correct</th>\n",
       "      <th>response</th>\n",
       "      <th>lateResponse</th>\n",
       "      <th>rt</th>\n",
       "      <th>rt_adj</th>\n",
       "      <th>z_rt</th>\n",
       "      <th>z_rt_adj</th>\n",
       "    </tr>\n",
       "  </thead>\n",
       "  <tbody>\n",
       "    <tr>\n",
       "      <th>0</th>\n",
       "      <td>0</td>\n",
       "      <td>0.0</td>\n",
       "      <td>0</td>\n",
       "      <td>0</td>\n",
       "      <td>18+17</td>\n",
       "      <td>18</td>\n",
       "      <td>17</td>\n",
       "      <td>35</td>\n",
       "      <td>True</td>\n",
       "      <td>35</td>\n",
       "      <td>NaN</td>\n",
       "      <td>1.654</td>\n",
       "      <td>0.645000</td>\n",
       "      <td>1.381697</td>\n",
       "      <td>1.090222</td>\n",
       "    </tr>\n",
       "    <tr>\n",
       "      <th>1</th>\n",
       "      <td>0</td>\n",
       "      <td>0.0</td>\n",
       "      <td>1</td>\n",
       "      <td>1</td>\n",
       "      <td>4+8</td>\n",
       "      <td>4</td>\n",
       "      <td>8</td>\n",
       "      <td>12</td>\n",
       "      <td>True</td>\n",
       "      <td>12</td>\n",
       "      <td>NaN</td>\n",
       "      <td>1.320</td>\n",
       "      <td>0.429000</td>\n",
       "      <td>0.419006</td>\n",
       "      <td>0.487497</td>\n",
       "    </tr>\n",
       "    <tr>\n",
       "      <th>2</th>\n",
       "      <td>0</td>\n",
       "      <td>0.0</td>\n",
       "      <td>10</td>\n",
       "      <td>10</td>\n",
       "      <td>14+4</td>\n",
       "      <td>14</td>\n",
       "      <td>4</td>\n",
       "      <td>18</td>\n",
       "      <td>True</td>\n",
       "      <td>18</td>\n",
       "      <td>NaN</td>\n",
       "      <td>1.162</td>\n",
       "      <td>0.262500</td>\n",
       "      <td>-0.036398</td>\n",
       "      <td>0.022897</td>\n",
       "    </tr>\n",
       "    <tr>\n",
       "      <th>3</th>\n",
       "      <td>0</td>\n",
       "      <td>0.0</td>\n",
       "      <td>100</td>\n",
       "      <td>100</td>\n",
       "      <td>5+15</td>\n",
       "      <td>5</td>\n",
       "      <td>15</td>\n",
       "      <td>20</td>\n",
       "      <td>True</td>\n",
       "      <td>20</td>\n",
       "      <td>NaN</td>\n",
       "      <td>1.001</td>\n",
       "      <td>0.027333</td>\n",
       "      <td>-0.500449</td>\n",
       "      <td>-0.633311</td>\n",
       "    </tr>\n",
       "    <tr>\n",
       "      <th>4</th>\n",
       "      <td>0</td>\n",
       "      <td>0.0</td>\n",
       "      <td>101</td>\n",
       "      <td>101</td>\n",
       "      <td>12+11</td>\n",
       "      <td>12</td>\n",
       "      <td>11</td>\n",
       "      <td>23</td>\n",
       "      <td>False</td>\n",
       "      <td>22</td>\n",
       "      <td>NaN</td>\n",
       "      <td>1.808</td>\n",
       "      <td>0.833667</td>\n",
       "      <td>1.825572</td>\n",
       "      <td>1.616676</td>\n",
       "    </tr>\n",
       "    <tr>\n",
       "      <th>...</th>\n",
       "      <td>...</td>\n",
       "      <td>...</td>\n",
       "      <td>...</td>\n",
       "      <td>...</td>\n",
       "      <td>...</td>\n",
       "      <td>...</td>\n",
       "      <td>...</td>\n",
       "      <td>...</td>\n",
       "      <td>...</td>\n",
       "      <td>...</td>\n",
       "      <td>...</td>\n",
       "      <td>...</td>\n",
       "      <td>...</td>\n",
       "      <td>...</td>\n",
       "      <td>...</td>\n",
       "    </tr>\n",
       "    <tr>\n",
       "      <th>456</th>\n",
       "      <td>82</td>\n",
       "      <td>2.0</td>\n",
       "      <td>95</td>\n",
       "      <td>389</td>\n",
       "      <td>4+0</td>\n",
       "      <td>4</td>\n",
       "      <td>0</td>\n",
       "      <td>4</td>\n",
       "      <td>True</td>\n",
       "      <td>4</td>\n",
       "      <td>NaN</td>\n",
       "      <td>1.171</td>\n",
       "      <td>0.317500</td>\n",
       "      <td>0.387025</td>\n",
       "      <td>-0.078598</td>\n",
       "    </tr>\n",
       "    <tr>\n",
       "      <th>457</th>\n",
       "      <td>82</td>\n",
       "      <td>2.0</td>\n",
       "      <td>96</td>\n",
       "      <td>390</td>\n",
       "      <td>7+17</td>\n",
       "      <td>7</td>\n",
       "      <td>17</td>\n",
       "      <td>24</td>\n",
       "      <td>True</td>\n",
       "      <td>24</td>\n",
       "      <td>NaN</td>\n",
       "      <td>1.473</td>\n",
       "      <td>0.489000</td>\n",
       "      <td>1.454645</td>\n",
       "      <td>0.566565</td>\n",
       "    </tr>\n",
       "    <tr>\n",
       "      <th>458</th>\n",
       "      <td>82</td>\n",
       "      <td>2.0</td>\n",
       "      <td>97</td>\n",
       "      <td>391</td>\n",
       "      <td>17+2</td>\n",
       "      <td>17</td>\n",
       "      <td>2</td>\n",
       "      <td>19</td>\n",
       "      <td>True</td>\n",
       "      <td>19</td>\n",
       "      <td>NaN</td>\n",
       "      <td>1.283</td>\n",
       "      <td>0.603333</td>\n",
       "      <td>0.782964</td>\n",
       "      <td>0.996673</td>\n",
       "    </tr>\n",
       "    <tr>\n",
       "      <th>459</th>\n",
       "      <td>82</td>\n",
       "      <td>2.0</td>\n",
       "      <td>98</td>\n",
       "      <td>392</td>\n",
       "      <td>11+13</td>\n",
       "      <td>11</td>\n",
       "      <td>13</td>\n",
       "      <td>24</td>\n",
       "      <td>True</td>\n",
       "      <td>24</td>\n",
       "      <td>NaN</td>\n",
       "      <td>1.420</td>\n",
       "      <td>0.436000</td>\n",
       "      <td>1.267281</td>\n",
       "      <td>0.367185</td>\n",
       "    </tr>\n",
       "    <tr>\n",
       "      <th>460</th>\n",
       "      <td>82</td>\n",
       "      <td>2.0</td>\n",
       "      <td>99</td>\n",
       "      <td>393</td>\n",
       "      <td>11+14</td>\n",
       "      <td>11</td>\n",
       "      <td>14</td>\n",
       "      <td>25</td>\n",
       "      <td>True</td>\n",
       "      <td>25</td>\n",
       "      <td>NaN</td>\n",
       "      <td>1.431</td>\n",
       "      <td>0.792333</td>\n",
       "      <td>1.306168</td>\n",
       "      <td>1.707668</td>\n",
       "    </tr>\n",
       "  </tbody>\n",
       "</table>\n",
       "<p>36603 rows × 15 columns</p>\n",
       "</div>"
      ],
      "text/plain": [
       "     worker_id  set  trial  trial_overall stimulus  addend1  addend2 target  \\\n",
       "0            0  0.0      0              0    18+17       18       17     35   \n",
       "1            0  0.0      1              1      4+8        4        8     12   \n",
       "2            0  0.0     10             10     14+4       14        4     18   \n",
       "3            0  0.0    100            100     5+15        5       15     20   \n",
       "4            0  0.0    101            101    12+11       12       11     23   \n",
       "..         ...  ...    ...            ...      ...      ...      ...    ...   \n",
       "456         82  2.0     95            389      4+0        4        0      4   \n",
       "457         82  2.0     96            390     7+17        7       17     24   \n",
       "458         82  2.0     97            391     17+2       17        2     19   \n",
       "459         82  2.0     98            392    11+13       11       13     24   \n",
       "460         82  2.0     99            393    11+14       11       14     25   \n",
       "\n",
       "     correct response lateResponse     rt    rt_adj      z_rt  z_rt_adj  \n",
       "0       True       35          NaN  1.654  0.645000  1.381697  1.090222  \n",
       "1       True       12          NaN  1.320  0.429000  0.419006  0.487497  \n",
       "2       True       18          NaN  1.162  0.262500 -0.036398  0.022897  \n",
       "3       True       20          NaN  1.001  0.027333 -0.500449 -0.633311  \n",
       "4      False       22          NaN  1.808  0.833667  1.825572  1.616676  \n",
       "..       ...      ...          ...    ...       ...       ...       ...  \n",
       "456     True        4          NaN  1.171  0.317500  0.387025 -0.078598  \n",
       "457     True       24          NaN  1.473  0.489000  1.454645  0.566565  \n",
       "458     True       19          NaN  1.283  0.603333  0.782964  0.996673  \n",
       "459     True       24          NaN  1.420  0.436000  1.267281  0.367185  \n",
       "460     True       25          NaN  1.431  0.792333  1.306168  1.707668  \n",
       "\n",
       "[36603 rows x 15 columns]"
      ]
     },
     "execution_count": 157,
     "metadata": {},
     "output_type": "execute_result"
    }
   ],
   "source": [
    "df.to_csv('../data/clean/add2/add2_rt.tsv', sep='\\t', index=False)\n",
    "df"
   ]
  },
  {
   "cell_type": "code",
   "execution_count": 124,
   "metadata": {
    "collapsed": false
   },
   "outputs": [
    {
     "data": {
      "image/png": "[encoded data removed]",
      "text/plain": [
       "<Figure size 640x480 with 1 Axes>"
      ]
     },
     "metadata": {},
     "output_type": "display_data"
    },
    {
     "data": {
      "text/plain": [
       "<ggplot: (337742635)>"
      ]
     },
     "execution_count": 124,
     "metadata": {},
     "output_type": "execute_result"
    }
   ],
   "source": [
    "# calibration_agg\n",
    "(ggplot(calib_agg_df, aes(x='target', y='rt', fill='keyboard'))\n",
    " + geom_bar(stat='identity', position='dodge')\n",
    " + geom_errorbar(aes(x=\"target\", ymin=\"rt-sem\",ymax=\"rt+sem\"), position='dodge')\n",
    " + aes(ymin=500)\n",
    ")"
   ]
  },
  {
   "cell_type": "code",
   "execution_count": 16,
   "metadata": {
    "collapsed": false
   },
   "outputs": [
    {
     "name": "stdout",
     "output_type": "stream",
     "text": [
      "\n",
      "\n"
     ]
    }
   ],
   "source": [
    "df = make_dataframe(raw_data)\n",
    "df = df[(df.segment == 'add2') & (~df.warmup) & (df.correct)]\n",
    "df['addend1'] = [int(s.split('+')[0]) for s in df.stimulus]\n",
    "df['addend2'] = [int(s.split('+')[-1]) for s in df.stimulus]\n",
    "df['addend1_s'] = [s.split('+')[0].zfill(2) for s in df.stimulus]\n",
    "df['addend2_s'] = [s.split('+')[-1].zfill(2) for s in df.stimulus]\n",
    "\n",
    "\n",
    "calib_df, agg_calib_df = calibration_data(raw_data)\n",
    "calib_df = calib_df.rename({'rt': 'calib_rt'}, axis=1)\n",
    "# df = df[(df.addend1 <= 10) & (df.addend2 <= 10)]\n",
    "df = df.merge(calib_df, on=['worker_id', 'target'], how='inner')\n",
    "df['adjusted_rt'] = df.rt - df.calib_rt\n",
    "\n",
    "mean_df = df[['addend1', 'addend2', 'rt', 'adjusted_rt']].groupby(['addend1', 'addend2'], as_index=False).mean()\n",
    "mean_df = mean_df.rename({'rt': 'mean_rt', 'adjusted_rt': 'mean_adj_rt'}, axis=1)\n",
    "sem_df = df[['addend1', 'addend2', 'rt', 'adjusted_rt']].groupby(['addend1', 'addend2'], as_index=False).mean()\n",
    "sem_df = mean_df.rename({'rt': 'mean_rt', 'adjusted_rt': 'mean_adj_rt'}, axis=1)\n",
    "\n",
    "df.to_csv('add2_mturk_results.tsv', sep='\\t', index=False)\n",
    "# agg_df['rt_adjustment'] = agg_df.rt - agg_df.adjusted_rt"
   ]
  },
  {
   "cell_type": "code",
   "execution_count": 17,
   "metadata": {
    "collapsed": false
   },
   "outputs": [],
   "source": [
    "rts = df[['worker_id', 'addend1', 'addend2', 'rt', 'adjusted_rt']]\n",
    "rts.to_csv('add2_rts.tsv', sep='\\t', index=False)"
   ]
  },
  {
   "cell_type": "code",
   "execution_count": 18,
   "metadata": {
    "collapsed": false
   },
   "outputs": [
    {
     "name": "stderr",
     "output_type": "stream",
     "text": [
      "/Users/andrew/anaconda/lib/python3.6/site-packages/numpy/core/fromnumeric.py:2223: FutureWarning: Method .ptp is deprecated and will be removed in a future version. Use numpy.ptp instead.\n",
      "  return ptp(axis=axis, out=out, **kwargs)\n"
     ]
    },
    {
     "name": "stdout",
     "output_type": "stream",
     "text": [
      "\n"
     ]
    }
   ],
   "source": [
    "rows = []\n",
    "for worker_id in tqdm_notebook(rts.worker_id.unique()):\n",
    "    mean_df = rts[rts.worker_id != worker_id][['addend1', 'addend2', 'rt', 'adjusted_rt']]\n",
    "    mean_df = mean_df.groupby(['addend1', 'addend2'], as_index=False).mean()\n",
    "    compare_df = mean_df.merge(rts[rts.worker_id == worker_id], on=['addend1', 'addend2'], how='inner')\n",
    "    compare_df = compare_df.rename({'rt_x': 'mean_rt', 'adjusted_rt_x': 'mean_adj_rt',\n",
    "                                    'rt_y': 'model_rt', 'adjusted_rt_y': 'model_adj_rt'}, axis=1)\n",
    "    compare_df = compare_df[['mean_rt', 'mean_adj_rt', 'model_rt', 'model_adj_rt']]\n",
    "    rt_r2 = sm.OLS(compare_df.mean_rt, sm.add_constant(compare_df.model_rt)).fit().rsquared\n",
    "    adj_rt_r2 = sm.OLS(compare_df.mean_adj_rt, sm.add_constant(compare_df.model_adj_rt)).fit().rsquared\n",
    "    \n",
    "    rows.append({'worker_id': worker_id, 'rt_r2': rt_r2, 'adj_rt_r2': adj_rt_r2})\n",
    "    \n",
    "r2_df = pd.DataFrame(rows)"
   ]
  },
  {
   "cell_type": "code",
   "execution_count": 19,
   "metadata": {
    "collapsed": false
   },
   "outputs": [
    {
     "data": {
      "text/html": [
       "<div>\n",
       "<style scoped>\n",
       "    .dataframe tbody tr th:only-of-type {\n",
       "        vertical-align: middle;\n",
       "    }\n",
       "\n",
       "    .dataframe tbody tr th {\n",
       "        vertical-align: top;\n",
       "    }\n",
       "\n",
       "    .dataframe thead th {\n",
       "        text-align: right;\n",
       "    }\n",
       "</style>\n",
       "<table border=\"1\" class=\"dataframe\">\n",
       "  <thead>\n",
       "    <tr style=\"text-align: right;\">\n",
       "      <th></th>\n",
       "      <th>rt_r2</th>\n",
       "      <th>adj_rt_r2</th>\n",
       "    </tr>\n",
       "  </thead>\n",
       "  <tbody>\n",
       "    <tr>\n",
       "      <th>count</th>\n",
       "      <td>82.000000</td>\n",
       "      <td>82.000000</td>\n",
       "    </tr>\n",
       "    <tr>\n",
       "      <th>mean</th>\n",
       "      <td>0.411038</td>\n",
       "      <td>0.391279</td>\n",
       "    </tr>\n",
       "    <tr>\n",
       "      <th>std</th>\n",
       "      <td>0.161381</td>\n",
       "      <td>0.169253</td>\n",
       "    </tr>\n",
       "    <tr>\n",
       "      <th>min</th>\n",
       "      <td>0.021253</td>\n",
       "      <td>0.000138</td>\n",
       "    </tr>\n",
       "    <tr>\n",
       "      <th>25%</th>\n",
       "      <td>0.333991</td>\n",
       "      <td>0.294776</td>\n",
       "    </tr>\n",
       "    <tr>\n",
       "      <th>50%</th>\n",
       "      <td>0.434821</td>\n",
       "      <td>0.419801</td>\n",
       "    </tr>\n",
       "    <tr>\n",
       "      <th>75%</th>\n",
       "      <td>0.520871</td>\n",
       "      <td>0.511242</td>\n",
       "    </tr>\n",
       "    <tr>\n",
       "      <th>max</th>\n",
       "      <td>0.699184</td>\n",
       "      <td>0.679203</td>\n",
       "    </tr>\n",
       "  </tbody>\n",
       "</table>\n",
       "</div>"
      ],
      "text/plain": [
       "           rt_r2  adj_rt_r2\n",
       "count  82.000000  82.000000\n",
       "mean    0.411038   0.391279\n",
       "std     0.161381   0.169253\n",
       "min     0.021253   0.000138\n",
       "25%     0.333991   0.294776\n",
       "50%     0.434821   0.419801\n",
       "75%     0.520871   0.511242\n",
       "max     0.699184   0.679203"
      ]
     },
     "execution_count": 19,
     "metadata": {},
     "output_type": "execute_result"
    }
   ],
   "source": [
    "r2_df.describe()"
   ]
  },
  {
   "cell_type": "code",
   "execution_count": 582,
   "metadata": {
    "collapsed": false
   },
   "outputs": [
    {
     "data": {
      "text/plain": [
       "rt_r2        0.037645\n",
       "adj_rt_r2    0.031876\n",
       "dtype: float64"
      ]
     },
     "execution_count": 582,
     "metadata": {},
     "output_type": "execute_result"
    }
   ],
   "source": [
    "r2_df.sem()"
   ]
  },
  {
   "cell_type": "code",
   "execution_count": 43,
   "metadata": {
    "collapsed": false
   },
   "outputs": [
    {
     "data": {
      "image/png": "[encoded data removed]",
      "text/plain": [
       "<Figure size 640x480 with 1 Axes>"
      ]
     },
     "metadata": {},
     "output_type": "display_data"
    },
    {
     "data": {
      "text/plain": [
       "<ggplot: (-9223372036545902939)>"
      ]
     },
     "execution_count": 43,
     "metadata": {},
     "output_type": "execute_result"
    }
   ],
   "source": [
    "plot = (ggplot(r2_df)\n",
    "     + aes(x='rt_r2')\n",
    "     + geom_histogram(bins=8)\n",
    "#      + labs(title='Mental Addition Response Time (n={})'.format(len(raw_data)))\n",
    "    )\n",
    "plot"
   ]
  },
  {
   "cell_type": "code",
   "execution_count": 45,
   "metadata": {
    "collapsed": false,
    "scrolled": false
   },
   "outputs": [
    {
     "data": {
      "image/png": "[encoded data removed]",
      "text/plain": [
       "<Figure size 640x480 with 1 Axes>"
      ]
     },
     "metadata": {},
     "output_type": "display_data"
    },
    {
     "data": {
      "text/plain": [
       "<ggplot: (-9223372036546296390)>"
      ]
     },
     "execution_count": 45,
     "metadata": {},
     "output_type": "execute_result"
    }
   ],
   "source": [
    "plot = (ggplot(r2_df)\n",
    "     + aes(x='adj_rt_r2')\n",
    "     + geom_histogram(bins=8)\n",
    "#      + labs(title='Mental Addition Response Time (n={})'.format(len(raw_data)))\n",
    "    )\n",
    "plot"
   ]
  },
  {
   "cell_type": "code",
   "execution_count": 46,
   "metadata": {
    "collapsed": false
   },
   "outputs": [
    {
     "data": {
      "image/png": "[encoded data removed]",
      "text/plain": [
       "<Figure size 640x480 with 1 Axes>"
      ]
     },
     "metadata": {},
     "output_type": "display_data"
    },
    {
     "data": {
      "text/plain": [
       "<ggplot: (-9223372036545902911)>"
      ]
     },
     "execution_count": 46,
     "metadata": {},
     "output_type": "execute_result"
    }
   ],
   "source": [
    "plot = (ggplot(r2_df)\n",
    "     + aes(x='rt_r2')\n",
    "     + geom_histogram(bins=6)\n",
    "     + labs(title='Mental Addition Response Time (n={})'.format(len(raw_data)))\n",
    "    )\n",
    "plot"
   ]
  },
  {
   "cell_type": "code",
   "execution_count": null,
   "metadata": {
    "collapsed": true
   },
   "outputs": [],
   "source": [
    "plot = (ggplot(df)\n",
    "     + aes(x='addend1_s', y='addend2_s', fill='rt')\n",
    "     + geom_tile()       \n",
    "     + scale_x_discrete(limits=sorted(df.addend1_s.unique()))\n",
    "     + scale_y_discrete(limits=sorted(df.addend2_s.unique()))\n",
    "     + coord_equal()\n",
    "     + scale_fill_gradientn(colors = ['blue', 'yellowgreen', 'yellow', 'orange', 'red'])\n",
    "     + labs(title='Mental Addition Response Time (n={})'.format(len(raw_data)))\n",
    "     + theme(\n",
    "         figure_size=(12, 12),\n",
    "         panel_background=element_rect(fill='black'),\n",
    "         line=element_line(color='black'),\n",
    "         panel_border=element_blank()\n",
    "        )\n",
    "    )\n",
    "plot"
   ]
  },
  {
   "cell_type": "code",
   "execution_count": 414,
   "metadata": {
    "collapsed": false
   },
   "outputs": [
    {
     "data": {
      "text/html": [
       "<div>\n",
       "<style scoped>\n",
       "    .dataframe tbody tr th:only-of-type {\n",
       "        vertical-align: middle;\n",
       "    }\n",
       "\n",
       "    .dataframe tbody tr th {\n",
       "        vertical-align: top;\n",
       "    }\n",
       "\n",
       "    .dataframe thead th {\n",
       "        text-align: right;\n",
       "    }\n",
       "</style>\n",
       "<table border=\"1\" class=\"dataframe\">\n",
       "  <thead>\n",
       "    <tr style=\"text-align: right;\">\n",
       "      <th></th>\n",
       "      <th>worker_id</th>\n",
       "      <th>trial</th>\n",
       "      <th>delay</th>\n",
       "      <th>rt</th>\n",
       "      <th>calib_rt</th>\n",
       "      <th>keyboard</th>\n",
       "      <th>adjusted_rt</th>\n",
       "    </tr>\n",
       "  </thead>\n",
       "  <tbody>\n",
       "    <tr>\n",
       "      <th>71</th>\n",
       "      <td>AC5FF0SJI0RXM</td>\n",
       "      <td>82</td>\n",
       "      <td>781</td>\n",
       "      <td>789</td>\n",
       "      <td>803.000000</td>\n",
       "      <td>numbar</td>\n",
       "      <td>-14.000000</td>\n",
       "    </tr>\n",
       "    <tr>\n",
       "      <th>148</th>\n",
       "      <td>A1WELSASLGM0P4</td>\n",
       "      <td>76</td>\n",
       "      <td>771</td>\n",
       "      <td>1374</td>\n",
       "      <td>969.333333</td>\n",
       "      <td>numbar</td>\n",
       "      <td>404.666667</td>\n",
       "    </tr>\n",
       "    <tr>\n",
       "      <th>308</th>\n",
       "      <td>A37DKV7XQI7N5J</td>\n",
       "      <td>66</td>\n",
       "      <td>527</td>\n",
       "      <td>814</td>\n",
       "      <td>772.000000</td>\n",
       "      <td>numpad</td>\n",
       "      <td>42.000000</td>\n",
       "    </tr>\n",
       "    <tr>\n",
       "      <th>379</th>\n",
       "      <td>A315GZMPR49WIY</td>\n",
       "      <td>58</td>\n",
       "      <td>632</td>\n",
       "      <td>1318</td>\n",
       "      <td>930.666667</td>\n",
       "      <td>numpad</td>\n",
       "      <td>387.333333</td>\n",
       "    </tr>\n",
       "    <tr>\n",
       "      <th>566</th>\n",
       "      <td>A1KFTQRBMXSC13</td>\n",
       "      <td>37</td>\n",
       "      <td>508</td>\n",
       "      <td>1031</td>\n",
       "      <td>812.000000</td>\n",
       "      <td>numpad</td>\n",
       "      <td>219.000000</td>\n",
       "    </tr>\n",
       "    <tr>\n",
       "      <th>678</th>\n",
       "      <td>A3LE1BIVORW3VR</td>\n",
       "      <td>12</td>\n",
       "      <td>779</td>\n",
       "      <td>808</td>\n",
       "      <td>828.333333</td>\n",
       "      <td>numpad</td>\n",
       "      <td>-20.333333</td>\n",
       "    </tr>\n",
       "    <tr>\n",
       "      <th>844</th>\n",
       "      <td>A2WY6HLF2YLSOF</td>\n",
       "      <td>44</td>\n",
       "      <td>820</td>\n",
       "      <td>1587</td>\n",
       "      <td>779.000000</td>\n",
       "      <td>numpad</td>\n",
       "      <td>808.000000</td>\n",
       "    </tr>\n",
       "    <tr>\n",
       "      <th>937</th>\n",
       "      <td>A2871R3LEPWMMK</td>\n",
       "      <td>75</td>\n",
       "      <td>761</td>\n",
       "      <td>955</td>\n",
       "      <td>973.500000</td>\n",
       "      <td>numbar</td>\n",
       "      <td>-18.500000</td>\n",
       "    </tr>\n",
       "    <tr>\n",
       "      <th>1050</th>\n",
       "      <td>AMONQ9MU8EJ2</td>\n",
       "      <td>33</td>\n",
       "      <td>933</td>\n",
       "      <td>1452</td>\n",
       "      <td>1473.000000</td>\n",
       "      <td>numbar</td>\n",
       "      <td>-21.000000</td>\n",
       "    </tr>\n",
       "    <tr>\n",
       "      <th>1130</th>\n",
       "      <td>A83OOIGU4606R</td>\n",
       "      <td>72</td>\n",
       "      <td>861</td>\n",
       "      <td>1194</td>\n",
       "      <td>1002.666667</td>\n",
       "      <td>numbar</td>\n",
       "      <td>191.333333</td>\n",
       "    </tr>\n",
       "    <tr>\n",
       "      <th>1235</th>\n",
       "      <td>A27A3Z6J7745DI</td>\n",
       "      <td>19</td>\n",
       "      <td>836</td>\n",
       "      <td>1289</td>\n",
       "      <td>781.666667</td>\n",
       "      <td>numbar</td>\n",
       "      <td>507.333333</td>\n",
       "    </tr>\n",
       "    <tr>\n",
       "      <th>1357</th>\n",
       "      <td>A1PNYLOKED8FWF</td>\n",
       "      <td>58</td>\n",
       "      <td>845</td>\n",
       "      <td>1043</td>\n",
       "      <td>898.666667</td>\n",
       "      <td>numbar</td>\n",
       "      <td>144.333333</td>\n",
       "    </tr>\n",
       "    <tr>\n",
       "      <th>1457</th>\n",
       "      <td>A2FGP5K2VWW23G</td>\n",
       "      <td>134</td>\n",
       "      <td>694</td>\n",
       "      <td>1219</td>\n",
       "      <td>1070.666667</td>\n",
       "      <td>numbar</td>\n",
       "      <td>148.333333</td>\n",
       "    </tr>\n",
       "    <tr>\n",
       "      <th>1613</th>\n",
       "      <td>A2O2Q0LVWOWJ1G</td>\n",
       "      <td>3</td>\n",
       "      <td>602</td>\n",
       "      <td>716</td>\n",
       "      <td>626.333333</td>\n",
       "      <td>numbar</td>\n",
       "      <td>89.666667</td>\n",
       "    </tr>\n",
       "    <tr>\n",
       "      <th>1729</th>\n",
       "      <td>A1J7YOEECGUE2L</td>\n",
       "      <td>98</td>\n",
       "      <td>430</td>\n",
       "      <td>1420</td>\n",
       "      <td>1015.666667</td>\n",
       "      <td>numbar</td>\n",
       "      <td>404.333333</td>\n",
       "    </tr>\n",
       "    <tr>\n",
       "      <th>1824</th>\n",
       "      <td>AC7QPNOH2LELF</td>\n",
       "      <td>123</td>\n",
       "      <td>503</td>\n",
       "      <td>1392</td>\n",
       "      <td>884.333333</td>\n",
       "      <td>numbar</td>\n",
       "      <td>507.666667</td>\n",
       "    </tr>\n",
       "    <tr>\n",
       "      <th>1995</th>\n",
       "      <td>A2KHMKJUVDMK1N</td>\n",
       "      <td>73</td>\n",
       "      <td>418</td>\n",
       "      <td>1108</td>\n",
       "      <td>903.333333</td>\n",
       "      <td>numbar</td>\n",
       "      <td>204.666667</td>\n",
       "    </tr>\n",
       "    <tr>\n",
       "      <th>2046</th>\n",
       "      <td>A1EOPEG6RHXO1V</td>\n",
       "      <td>106</td>\n",
       "      <td>451</td>\n",
       "      <td>981</td>\n",
       "      <td>835.000000</td>\n",
       "      <td>numbar</td>\n",
       "      <td>146.000000</td>\n",
       "    </tr>\n",
       "    <tr>\n",
       "      <th>2219</th>\n",
       "      <td>ALHS0TDN03O9K</td>\n",
       "      <td>60</td>\n",
       "      <td>743</td>\n",
       "      <td>1703</td>\n",
       "      <td>1332.333333</td>\n",
       "      <td>numbar</td>\n",
       "      <td>370.666667</td>\n",
       "    </tr>\n",
       "    <tr>\n",
       "      <th>2251</th>\n",
       "      <td>A2O359OPIQNMDL</td>\n",
       "      <td>138</td>\n",
       "      <td>994</td>\n",
       "      <td>1608</td>\n",
       "      <td>1182.666667</td>\n",
       "      <td>numbar</td>\n",
       "      <td>425.333333</td>\n",
       "    </tr>\n",
       "    <tr>\n",
       "      <th>2409</th>\n",
       "      <td>A2EVTBJG1Z9TCP</td>\n",
       "      <td>124</td>\n",
       "      <td>806</td>\n",
       "      <td>800</td>\n",
       "      <td>689.000000</td>\n",
       "      <td>numbar</td>\n",
       "      <td>111.000000</td>\n",
       "    </tr>\n",
       "    <tr>\n",
       "      <th>2480</th>\n",
       "      <td>A226PPE8EN1W8M</td>\n",
       "      <td>41</td>\n",
       "      <td>806</td>\n",
       "      <td>1113</td>\n",
       "      <td>890.333333</td>\n",
       "      <td>numbar</td>\n",
       "      <td>222.666667</td>\n",
       "    </tr>\n",
       "    <tr>\n",
       "      <th>2593</th>\n",
       "      <td>A8R445009SICT</td>\n",
       "      <td>34</td>\n",
       "      <td>444</td>\n",
       "      <td>1122</td>\n",
       "      <td>970.666667</td>\n",
       "      <td>numbar</td>\n",
       "      <td>151.333333</td>\n",
       "    </tr>\n",
       "  </tbody>\n",
       "</table>\n",
       "</div>"
      ],
      "text/plain": [
       "           worker_id  trial delay    rt     calib_rt keyboard  adjusted_rt\n",
       "71     AC5FF0SJI0RXM     82   781   789   803.000000   numbar   -14.000000\n",
       "148   A1WELSASLGM0P4     76   771  1374   969.333333   numbar   404.666667\n",
       "308   A37DKV7XQI7N5J     66   527   814   772.000000   numpad    42.000000\n",
       "379   A315GZMPR49WIY     58   632  1318   930.666667   numpad   387.333333\n",
       "566   A1KFTQRBMXSC13     37   508  1031   812.000000   numpad   219.000000\n",
       "678   A3LE1BIVORW3VR     12   779   808   828.333333   numpad   -20.333333\n",
       "844   A2WY6HLF2YLSOF     44   820  1587   779.000000   numpad   808.000000\n",
       "937   A2871R3LEPWMMK     75   761   955   973.500000   numbar   -18.500000\n",
       "1050    AMONQ9MU8EJ2     33   933  1452  1473.000000   numbar   -21.000000\n",
       "1130   A83OOIGU4606R     72   861  1194  1002.666667   numbar   191.333333\n",
       "1235  A27A3Z6J7745DI     19   836  1289   781.666667   numbar   507.333333\n",
       "1357  A1PNYLOKED8FWF     58   845  1043   898.666667   numbar   144.333333\n",
       "1457  A2FGP5K2VWW23G    134   694  1219  1070.666667   numbar   148.333333\n",
       "1613  A2O2Q0LVWOWJ1G      3   602   716   626.333333   numbar    89.666667\n",
       "1729  A1J7YOEECGUE2L     98   430  1420  1015.666667   numbar   404.333333\n",
       "1824   AC7QPNOH2LELF    123   503  1392   884.333333   numbar   507.666667\n",
       "1995  A2KHMKJUVDMK1N     73   418  1108   903.333333   numbar   204.666667\n",
       "2046  A1EOPEG6RHXO1V    106   451   981   835.000000   numbar   146.000000\n",
       "2219   ALHS0TDN03O9K     60   743  1703  1332.333333   numbar   370.666667\n",
       "2251  A2O359OPIQNMDL    138   994  1608  1182.666667   numbar   425.333333\n",
       "2409  A2EVTBJG1Z9TCP    124   806   800   689.000000   numbar   111.000000\n",
       "2480  A226PPE8EN1W8M     41   806  1113   890.333333   numbar   222.666667\n",
       "2593   A8R445009SICT     34   444  1122   970.666667   numbar   151.333333"
      ]
     },
     "execution_count": 414,
     "metadata": {},
     "output_type": "execute_result"
    }
   ],
   "source": [
    "geom_histogram(mapping=None, data=None, stat='bin', position='stack',\n",
    "               na_rm=False, inherit_aes=True, show_legend=None, **kwargs)"
   ]
  },
  {
   "cell_type": "code",
   "execution_count": 396,
   "metadata": {
    "collapsed": false
   },
   "outputs": [
    {
     "data": {
      "text/plain": [
       "(0.2749924946648373, 0.0023682163010195884)"
      ]
     },
     "execution_count": 396,
     "metadata": {},
     "output_type": "execute_result"
    }
   ],
   "source": [
    "scipy.stats.pearsonr(df.mean_rt, df.rt)"
   ]
  },
  {
   "cell_type": "code",
   "execution_count": 398,
   "metadata": {
    "collapsed": false
   },
   "outputs": [
    {
     "data": {
      "text/plain": [
       "-0.19955178076696978"
      ]
     },
     "execution_count": 398,
     "metadata": {},
     "output_type": "execute_result"
    }
   ],
   "source": [
    "sklearn.metrics.r2_score(df.mean_rt, df.rt)"
   ]
  },
  {
   "cell_type": "code",
   "execution_count": null,
   "metadata": {
    "collapsed": true
   },
   "outputs": [],
   "source": []
  },
  {
   "cell_type": "code",
   "execution_count": null,
   "metadata": {
    "collapsed": true
   },
   "outputs": [],
   "source": []
  },
  {
   "cell_type": "code",
   "execution_count": 35,
   "metadata": {
    "collapsed": true
   },
   "outputs": [],
   "source": [
    "df = df[['addend1_s', 'addend2_s', 'rt', 'adjusted_rt']].groupby(['addend1_s', 'addend2_s'], as_index=False).mean()\n",
    "df['rt_adjustment'] = df.rt - df.adjusted_rt"
   ]
  },
  {
   "cell_type": "code",
   "execution_count": 38,
   "metadata": {
    "collapsed": false
   },
   "outputs": [],
   "source": [
    "df = make_dataframe(raw_data)\n",
    "df = df[(df.segment == 'add2') & (~df.warmup) & (df.correct)]\n",
    "df['addend1'] = [int(s.split('+')[0]) for s in df.stimulus]\n",
    "df['addend2'] = [int(s.split('+')[-1]) for s in df.stimulus]\n",
    "df['addend1_s'] = [s.split('+')[0].zfill(2) for s in df.stimulus]\n",
    "df['addend2_s'] = [s.split('+')[-1].zfill(2) for s in df.stimulus]\n",
    "\n",
    "\n",
    "calib_df, agg_calib_df = calibration_data(raw_data)\n",
    "calib_df = calib_df.rename({'rt': 'calib_rt'}, axis=1)\n",
    "# df = df[(df.addend1 <= 9) & (df.addend2 <= 9)]\n",
    "df = df.merge(calib_df, on=['worker_id', 'target'], how='inner')\n",
    "df['adjusted_rt'] = df.rt - df.calib_rt\n",
    "\n",
    "agg_df = df.groupby(['addend1_s', 'addend2_s'], as_index=False).mean()\n",
    "agg_df = agg_df[['addend1_s', 'addend2_s', 'rt', 'adjusted_rt']]\n",
    "\n",
    "# agg_df['rt_adjustment'] = agg_df.rt - agg_df.adjusted_rt\n"
   ]
  },
  {
   "cell_type": "code",
   "execution_count": 39,
   "metadata": {
    "collapsed": false
   },
   "outputs": [
    {
     "data": {
      "image/png": "[encoded data removed]",
      "text/plain": [
       "<Figure size 800x805.195 with 1 Axes>"
      ]
     },
     "metadata": {},
     "output_type": "display_data"
    },
    {
     "data": {
      "text/plain": [
       "<ggplot: (-9223372036547365109)>"
      ]
     },
     "execution_count": 39,
     "metadata": {},
     "output_type": "execute_result"
    }
   ],
   "source": [
    "plot = (ggplot(agg_df)\n",
    "     + aes(x='addend1_s', y='addend2_s', fill='rt')\n",
    "     + geom_tile()       \n",
    "     + scale_x_discrete(limits=sorted(agg_df.addend1_s.unique()))\n",
    "     + scale_y_discrete(limits=sorted(agg_df.addend2_s.unique()))\n",
    "     + coord_equal()\n",
    "     + scale_fill_gradientn(colors = ['blue', 'yellowgreen', 'yellow', 'orange', 'red'])\n",
    "     + labs(title='Mental Addition Response Time (n={})'.format(len(raw_data)))\n",
    "     + theme(\n",
    "         figure_size=(8, 8),\n",
    "         panel_background=element_rect(fill='black'),\n",
    "         line=element_line(color='black'),\n",
    "         panel_border=element_blank()\n",
    "        )\n",
    "    )\n",
    "plot"
   ]
  },
  {
   "cell_type": "code",
   "execution_count": 40,
   "metadata": {
    "collapsed": false
   },
   "outputs": [
    {
     "data": {
      "image/png": "[encoded data removed]",
      "text/plain": [
       "<Figure size 800x805.195 with 1 Axes>"
      ]
     },
     "metadata": {},
     "output_type": "display_data"
    },
    {
     "data": {
      "text/plain": [
       "<ggplot: (307430895)>"
      ]
     },
     "execution_count": 40,
     "metadata": {},
     "output_type": "execute_result"
    }
   ],
   "source": [
    "plot = (ggplot(agg_df)\n",
    "     + aes(x='addend1_s', y='addend2_s', fill='adjusted_rt')\n",
    "     + geom_tile()       \n",
    "     + scale_x_discrete(limits=sorted(agg_df.addend1_s.unique()))\n",
    "     + scale_y_discrete(limits=sorted(agg_df.addend2_s.unique()))\n",
    "     + coord_equal()\n",
    "     + scale_fill_gradientn(colors = ['blue', 'yellowgreen', 'yellow', 'orange', 'red'])\n",
    "     + labs(title='Mental Addition Adjusted Response Time (n={})'.format(len(raw_data)))\n",
    "     + theme(\n",
    "         figure_size=(8, 8),\n",
    "         panel_background=element_rect(fill='black'),\n",
    "         line=element_line(color='black'),\n",
    "         panel_border=element_blank()\n",
    "        )\n",
    "    )\n",
    "plot"
   ]
  },
  {
   "cell_type": "code",
   "execution_count": 492,
   "metadata": {
    "collapsed": true
   },
   "outputs": [],
   "source": [
    "df = make_dataframe(raw_data)\n",
    "df = df[(df.segment == 'add2') & (~df.warmup) & (df.correct)]\n",
    "df['addend1'] = [int(s.split('+')[0]) for s in df.stimulus]\n",
    "df['addend2'] = [int(s.split('+')[-1]) for s in df.stimulus]\n",
    "df['addend1_s'] = [s.split('+')[0].zfill(2) for s in df.stimulus]\n",
    "df['addend2_s'] = [s.split('+')[-1].zfill(2) for s in df.stimulus]\n",
    "\n",
    "agg_df = df.groupby(['addend1_s', 'addend2_s'], as_index=False).mean()\n",
    "agg_df = agg_df[['addend1_s', 'addend2_s', 'rt']]\n",
    "\n",
    "# agg_df['rt_adjustment'] = agg_df.rt - agg_df.adjusted_rt\n"
   ]
  },
  {
   "cell_type": "code",
   "execution_count": 494,
   "metadata": {
    "collapsed": false,
    "scrolled": false
   },
   "outputs": [
    {
     "data": {
      "image/png": "[encoded data removed]",
      "text/plain": [
       "<Figure size 1200x1207.79 with 1 Axes>"
      ]
     },
     "metadata": {},
     "output_type": "display_data"
    },
    {
     "data": {
      "text/plain": [
       "<ggplot: (-9223372036541113926)>"
      ]
     },
     "execution_count": 494,
     "metadata": {},
     "output_type": "execute_result"
    }
   ],
   "source": [
    "plot = (ggplot(agg_df)\n",
    "     + aes(x='addend1_s', y='addend2_s', fill='rt')\n",
    "     + geom_tile()       \n",
    "     + scale_x_discrete(limits=sorted(df.addend1_s.unique()))\n",
    "     + scale_y_discrete(limits=sorted(df.addend2_s.unique()))\n",
    "     + coord_equal()\n",
    "     + scale_fill_gradientn(colors = ['blue', 'yellowgreen', 'yellow', 'orange', 'red'])\n",
    "     + labs(title='Mental Addition Response Time (n={})'.format(len(raw_data)))\n",
    "     + theme(\n",
    "         figure_size=(12, 12),\n",
    "         panel_background=element_rect(fill='black'),\n",
    "         line=element_line(color='black'),\n",
    "         panel_border=element_blank()\n",
    "        )\n",
    "    )\n",
    "plot"
   ]
  },
  {
   "cell_type": "markdown",
   "metadata": {},
   "source": []
  },
  {
   "cell_type": "code",
   "execution_count": 41,
   "metadata": {
    "collapsed": false
   },
   "outputs": [
    {
     "data": {
      "image/png": "[encoded data removed]",
      "text/plain": [
       "<Figure size 1200x1207.79 with 1 Axes>"
      ]
     },
     "metadata": {},
     "output_type": "display_data"
    },
    {
     "data": {
      "text/plain": [
       "<ggplot: (308672120)>"
      ]
     },
     "execution_count": 41,
     "metadata": {},
     "output_type": "execute_result"
    }
   ],
   "source": [
    "plot = (ggplot(df)\n",
    "     + aes(x='addend1_s', y='addend2_s', fill='adjusted_rt')\n",
    "     + geom_tile()       \n",
    "     + scale_x_discrete(limits=sorted(df.addend1_s.unique()))\n",
    "     + scale_y_discrete(limits=sorted(df.addend2_s.unique()))\n",
    "     + coord_equal()\n",
    "     + scale_fill_gradientn(colors = ['blue', 'yellowgreen', 'yellow', 'orange', 'red'])\n",
    "     + labs(title='Mental Addition Adjusted Response Time (n={})'.format(len(raw_data)))\n",
    "     + theme(\n",
    "         figure_size=(12, 12),\n",
    "         panel_background=element_rect(fill='black'),\n",
    "         line=element_line(color='black'),\n",
    "         panel_border=element_blank()\n",
    "        )\n",
    "    )\n",
    "plot"
   ]
  },
  {
   "cell_type": "code",
   "execution_count": 42,
   "metadata": {
    "collapsed": false
   },
   "outputs": [
    {
     "ename": "PlotnineError",
     "evalue": "\"Could not evaluate the 'fill' mapping: 'rt_adjustment' (original error: name 'rt_adjustment' is not defined)\"",
     "output_type": "error",
     "traceback": [
      "\u001b[0;31m---------------------------------------------------------------------------\u001b[0m",
      "\u001b[0;31mNameError\u001b[0m                                 Traceback (most recent call last)",
      "\u001b[0;32m/Users/andrew/anaconda/lib/python3.6/site-packages/plotnine/layer.py\u001b[0m in \u001b[0;36mcompute_aesthetics\u001b[0;34m(self, plot)\u001b[0m\n\u001b[1;32m    308\u001b[0m                     \u001b[0;32mtry\u001b[0m\u001b[0;34m:\u001b[0m\u001b[0;34m\u001b[0m\u001b[0;34m\u001b[0m\u001b[0m\n\u001b[0;32m--> 309\u001b[0;31m                         \u001b[0mnew_val\u001b[0m \u001b[0;34m=\u001b[0m \u001b[0menv\u001b[0m\u001b[0;34m.\u001b[0m\u001b[0meval\u001b[0m\u001b[0;34m(\u001b[0m\u001b[0mcol\u001b[0m\u001b[0;34m,\u001b[0m \u001b[0minner_namespace\u001b[0m\u001b[0;34m=\u001b[0m\u001b[0mdata\u001b[0m\u001b[0;34m)\u001b[0m\u001b[0;34m\u001b[0m\u001b[0;34m\u001b[0m\u001b[0m\n\u001b[0m\u001b[1;32m    310\u001b[0m                     \u001b[0;32mexcept\u001b[0m \u001b[0mException\u001b[0m \u001b[0;32mas\u001b[0m \u001b[0me\u001b[0m\u001b[0;34m:\u001b[0m\u001b[0;34m\u001b[0m\u001b[0;34m\u001b[0m\u001b[0m\n",
      "\u001b[0;32m/Users/andrew/anaconda/lib/python3.6/site-packages/patsy/eval.py\u001b[0m in \u001b[0;36meval\u001b[0;34m(self, expr, source_name, inner_namespace)\u001b[0m\n\u001b[1;32m    165\u001b[0m         return eval(code, {}, VarLookupDict([inner_namespace]\n\u001b[0;32m--> 166\u001b[0;31m                                             + self._namespaces))\n\u001b[0m\u001b[1;32m    167\u001b[0m \u001b[0;34m\u001b[0m\u001b[0m\n",
      "\u001b[0;32m<string>\u001b[0m in \u001b[0;36m<module>\u001b[0;34m()\u001b[0m\n",
      "\u001b[0;31mNameError\u001b[0m: name 'rt_adjustment' is not defined",
      "\nDuring handling of the above exception, another exception occurred:\n",
      "\u001b[0;31mPlotnineError\u001b[0m                             Traceback (most recent call last)",
      "\u001b[0;32m/Users/andrew/anaconda/lib/python3.6/site-packages/IPython/core/formatters.py\u001b[0m in \u001b[0;36m__call__\u001b[0;34m(self, obj)\u001b[0m\n\u001b[1;32m    670\u001b[0m                 \u001b[0mtype_pprinters\u001b[0m\u001b[0;34m=\u001b[0m\u001b[0mself\u001b[0m\u001b[0;34m.\u001b[0m\u001b[0mtype_printers\u001b[0m\u001b[0;34m,\u001b[0m\u001b[0;34m\u001b[0m\u001b[0;34m\u001b[0m\u001b[0m\n\u001b[1;32m    671\u001b[0m                 deferred_pprinters=self.deferred_printers)\n\u001b[0;32m--> 672\u001b[0;31m             \u001b[0mprinter\u001b[0m\u001b[0;34m.\u001b[0m\u001b[0mpretty\u001b[0m\u001b[0;34m(\u001b[0m\u001b[0mobj\u001b[0m\u001b[0;34m)\u001b[0m\u001b[0;34m\u001b[0m\u001b[0;34m\u001b[0m\u001b[0m\n\u001b[0m\u001b[1;32m    673\u001b[0m             \u001b[0mprinter\u001b[0m\u001b[0;34m.\u001b[0m\u001b[0mflush\u001b[0m\u001b[0;34m(\u001b[0m\u001b[0;34m)\u001b[0m\u001b[0;34m\u001b[0m\u001b[0;34m\u001b[0m\u001b[0m\n\u001b[1;32m    674\u001b[0m             \u001b[0;32mreturn\u001b[0m \u001b[0mstream\u001b[0m\u001b[0;34m.\u001b[0m\u001b[0mgetvalue\u001b[0m\u001b[0;34m(\u001b[0m\u001b[0;34m)\u001b[0m\u001b[0;34m\u001b[0m\u001b[0;34m\u001b[0m\u001b[0m\n",
      "\u001b[0;32m/Users/andrew/anaconda/lib/python3.6/site-packages/IPython/lib/pretty.py\u001b[0m in \u001b[0;36mpretty\u001b[0;34m(self, obj)\u001b[0m\n\u001b[1;32m    381\u001b[0m                             \u001b[0;32mif\u001b[0m \u001b[0mcallable\u001b[0m\u001b[0;34m(\u001b[0m\u001b[0mmeth\u001b[0m\u001b[0;34m)\u001b[0m\u001b[0;34m:\u001b[0m\u001b[0;34m\u001b[0m\u001b[0;34m\u001b[0m\u001b[0m\n\u001b[1;32m    382\u001b[0m                                 \u001b[0;32mreturn\u001b[0m \u001b[0mmeth\u001b[0m\u001b[0;34m(\u001b[0m\u001b[0mobj\u001b[0m\u001b[0;34m,\u001b[0m \u001b[0mself\u001b[0m\u001b[0;34m,\u001b[0m \u001b[0mcycle\u001b[0m\u001b[0;34m)\u001b[0m\u001b[0;34m\u001b[0m\u001b[0;34m\u001b[0m\u001b[0m\n\u001b[0;32m--> 383\u001b[0;31m             \u001b[0;32mreturn\u001b[0m \u001b[0m_default_pprint\u001b[0m\u001b[0;34m(\u001b[0m\u001b[0mobj\u001b[0m\u001b[0;34m,\u001b[0m \u001b[0mself\u001b[0m\u001b[0;34m,\u001b[0m \u001b[0mcycle\u001b[0m\u001b[0;34m)\u001b[0m\u001b[0;34m\u001b[0m\u001b[0;34m\u001b[0m\u001b[0m\n\u001b[0m\u001b[1;32m    384\u001b[0m         \u001b[0;32mfinally\u001b[0m\u001b[0;34m:\u001b[0m\u001b[0;34m\u001b[0m\u001b[0;34m\u001b[0m\u001b[0m\n\u001b[1;32m    385\u001b[0m             \u001b[0mself\u001b[0m\u001b[0;34m.\u001b[0m\u001b[0mend_group\u001b[0m\u001b[0;34m(\u001b[0m\u001b[0;34m)\u001b[0m\u001b[0;34m\u001b[0m\u001b[0;34m\u001b[0m\u001b[0m\n",
      "\u001b[0;32m/Users/andrew/anaconda/lib/python3.6/site-packages/IPython/lib/pretty.py\u001b[0m in \u001b[0;36m_default_pprint\u001b[0;34m(obj, p, cycle)\u001b[0m\n\u001b[1;32m    501\u001b[0m     \u001b[0;32mif\u001b[0m \u001b[0m_safe_getattr\u001b[0m\u001b[0;34m(\u001b[0m\u001b[0mklass\u001b[0m\u001b[0;34m,\u001b[0m \u001b[0;34m'__repr__'\u001b[0m\u001b[0;34m,\u001b[0m \u001b[0;32mNone\u001b[0m\u001b[0;34m)\u001b[0m \u001b[0;32mnot\u001b[0m \u001b[0;32min\u001b[0m \u001b[0m_baseclass_reprs\u001b[0m\u001b[0;34m:\u001b[0m\u001b[0;34m\u001b[0m\u001b[0;34m\u001b[0m\u001b[0m\n\u001b[1;32m    502\u001b[0m         \u001b[0;31m# A user-provided repr. Find newlines and replace them with p.break_()\u001b[0m\u001b[0;34m\u001b[0m\u001b[0;34m\u001b[0m\u001b[0;34m\u001b[0m\u001b[0m\n\u001b[0;32m--> 503\u001b[0;31m         \u001b[0m_repr_pprint\u001b[0m\u001b[0;34m(\u001b[0m\u001b[0mobj\u001b[0m\u001b[0;34m,\u001b[0m \u001b[0mp\u001b[0m\u001b[0;34m,\u001b[0m \u001b[0mcycle\u001b[0m\u001b[0;34m)\u001b[0m\u001b[0;34m\u001b[0m\u001b[0;34m\u001b[0m\u001b[0m\n\u001b[0m\u001b[1;32m    504\u001b[0m         \u001b[0;32mreturn\u001b[0m\u001b[0;34m\u001b[0m\u001b[0;34m\u001b[0m\u001b[0m\n\u001b[1;32m    505\u001b[0m     \u001b[0mp\u001b[0m\u001b[0;34m.\u001b[0m\u001b[0mbegin_group\u001b[0m\u001b[0;34m(\u001b[0m\u001b[0;36m1\u001b[0m\u001b[0;34m,\u001b[0m \u001b[0;34m'<'\u001b[0m\u001b[0;34m)\u001b[0m\u001b[0;34m\u001b[0m\u001b[0;34m\u001b[0m\u001b[0m\n",
      "\u001b[0;32m/Users/andrew/anaconda/lib/python3.6/site-packages/IPython/lib/pretty.py\u001b[0m in \u001b[0;36m_repr_pprint\u001b[0;34m(obj, p, cycle)\u001b[0m\n\u001b[1;32m    699\u001b[0m     \u001b[0;34m\"\"\"A pprint that just redirects to the normal repr function.\"\"\"\u001b[0m\u001b[0;34m\u001b[0m\u001b[0;34m\u001b[0m\u001b[0m\n\u001b[1;32m    700\u001b[0m     \u001b[0;31m# Find newlines and replace them with p.break_()\u001b[0m\u001b[0;34m\u001b[0m\u001b[0;34m\u001b[0m\u001b[0;34m\u001b[0m\u001b[0m\n\u001b[0;32m--> 701\u001b[0;31m     \u001b[0moutput\u001b[0m \u001b[0;34m=\u001b[0m \u001b[0mrepr\u001b[0m\u001b[0;34m(\u001b[0m\u001b[0mobj\u001b[0m\u001b[0;34m)\u001b[0m\u001b[0;34m\u001b[0m\u001b[0;34m\u001b[0m\u001b[0m\n\u001b[0m\u001b[1;32m    702\u001b[0m     \u001b[0;32mfor\u001b[0m \u001b[0midx\u001b[0m\u001b[0;34m,\u001b[0m\u001b[0moutput_line\u001b[0m \u001b[0;32min\u001b[0m \u001b[0menumerate\u001b[0m\u001b[0;34m(\u001b[0m\u001b[0moutput\u001b[0m\u001b[0;34m.\u001b[0m\u001b[0msplitlines\u001b[0m\u001b[0;34m(\u001b[0m\u001b[0;34m)\u001b[0m\u001b[0;34m)\u001b[0m\u001b[0;34m:\u001b[0m\u001b[0;34m\u001b[0m\u001b[0;34m\u001b[0m\u001b[0m\n\u001b[1;32m    703\u001b[0m         \u001b[0;32mif\u001b[0m \u001b[0midx\u001b[0m\u001b[0;34m:\u001b[0m\u001b[0;34m\u001b[0m\u001b[0;34m\u001b[0m\u001b[0m\n",
      "\u001b[0;32m/Users/andrew/anaconda/lib/python3.6/site-packages/plotnine/ggplot.py\u001b[0m in \u001b[0;36m__repr__\u001b[0;34m(self)\u001b[0m\n\u001b[1;32m     86\u001b[0m         \u001b[0;31m# in the jupyter notebook.\u001b[0m\u001b[0;34m\u001b[0m\u001b[0;34m\u001b[0m\u001b[0;34m\u001b[0m\u001b[0m\n\u001b[1;32m     87\u001b[0m         \u001b[0;32mif\u001b[0m \u001b[0;32mnot\u001b[0m \u001b[0mself\u001b[0m\u001b[0;34m.\u001b[0m\u001b[0mfigure\u001b[0m\u001b[0;34m:\u001b[0m\u001b[0;34m\u001b[0m\u001b[0;34m\u001b[0m\u001b[0m\n\u001b[0;32m---> 88\u001b[0;31m             \u001b[0mself\u001b[0m\u001b[0;34m.\u001b[0m\u001b[0mdraw\u001b[0m\u001b[0;34m(\u001b[0m\u001b[0;34m)\u001b[0m\u001b[0;34m\u001b[0m\u001b[0;34m\u001b[0m\u001b[0m\n\u001b[0m\u001b[1;32m     89\u001b[0m         \u001b[0mplt\u001b[0m\u001b[0;34m.\u001b[0m\u001b[0mshow\u001b[0m\u001b[0;34m(\u001b[0m\u001b[0;34m)\u001b[0m\u001b[0;34m\u001b[0m\u001b[0;34m\u001b[0m\u001b[0m\n\u001b[1;32m     90\u001b[0m         \u001b[0;32mreturn\u001b[0m \u001b[0;34m'<ggplot: (%d)>'\u001b[0m \u001b[0;34m%\u001b[0m \u001b[0mself\u001b[0m\u001b[0;34m.\u001b[0m\u001b[0m__hash__\u001b[0m\u001b[0;34m(\u001b[0m\u001b[0;34m)\u001b[0m\u001b[0;34m\u001b[0m\u001b[0;34m\u001b[0m\u001b[0m\n",
      "\u001b[0;32m/Users/andrew/anaconda/lib/python3.6/site-packages/plotnine/ggplot.py\u001b[0m in \u001b[0;36mdraw\u001b[0;34m(self, return_ggplot)\u001b[0m\n\u001b[1;32m    179\u001b[0m         \u001b[0;31m# new frames knowing that they are separate from the original.\u001b[0m\u001b[0;34m\u001b[0m\u001b[0;34m\u001b[0m\u001b[0;34m\u001b[0m\u001b[0m\n\u001b[1;32m    180\u001b[0m         \u001b[0;32mwith\u001b[0m \u001b[0mpd\u001b[0m\u001b[0;34m.\u001b[0m\u001b[0moption_context\u001b[0m\u001b[0;34m(\u001b[0m\u001b[0;34m'mode.chained_assignment'\u001b[0m\u001b[0;34m,\u001b[0m \u001b[0;32mNone\u001b[0m\u001b[0;34m)\u001b[0m\u001b[0;34m:\u001b[0m\u001b[0;34m\u001b[0m\u001b[0;34m\u001b[0m\u001b[0m\n\u001b[0;32m--> 181\u001b[0;31m             \u001b[0;32mreturn\u001b[0m \u001b[0mself\u001b[0m\u001b[0;34m.\u001b[0m\u001b[0m_draw\u001b[0m\u001b[0;34m(\u001b[0m\u001b[0mreturn_ggplot\u001b[0m\u001b[0;34m)\u001b[0m\u001b[0;34m\u001b[0m\u001b[0;34m\u001b[0m\u001b[0m\n\u001b[0m\u001b[1;32m    182\u001b[0m \u001b[0;34m\u001b[0m\u001b[0m\n\u001b[1;32m    183\u001b[0m     \u001b[0;32mdef\u001b[0m \u001b[0m_draw\u001b[0m\u001b[0;34m(\u001b[0m\u001b[0mself\u001b[0m\u001b[0;34m,\u001b[0m \u001b[0mreturn_ggplot\u001b[0m\u001b[0;34m=\u001b[0m\u001b[0;32mFalse\u001b[0m\u001b[0;34m)\u001b[0m\u001b[0;34m:\u001b[0m\u001b[0;34m\u001b[0m\u001b[0;34m\u001b[0m\u001b[0m\n",
      "\u001b[0;32m/Users/andrew/anaconda/lib/python3.6/site-packages/plotnine/ggplot.py\u001b[0m in \u001b[0;36m_draw\u001b[0;34m(self, return_ggplot)\u001b[0m\n\u001b[1;32m    186\u001b[0m         \u001b[0;31m# assign a default theme\u001b[0m\u001b[0;34m\u001b[0m\u001b[0;34m\u001b[0m\u001b[0;34m\u001b[0m\u001b[0m\n\u001b[1;32m    187\u001b[0m         \u001b[0mself\u001b[0m \u001b[0;34m=\u001b[0m \u001b[0mdeepcopy\u001b[0m\u001b[0;34m(\u001b[0m\u001b[0mself\u001b[0m\u001b[0;34m)\u001b[0m\u001b[0;34m\u001b[0m\u001b[0;34m\u001b[0m\u001b[0m\n\u001b[0;32m--> 188\u001b[0;31m         \u001b[0mself\u001b[0m\u001b[0;34m.\u001b[0m\u001b[0m_build\u001b[0m\u001b[0;34m(\u001b[0m\u001b[0;34m)\u001b[0m\u001b[0;34m\u001b[0m\u001b[0;34m\u001b[0m\u001b[0m\n\u001b[0m\u001b[1;32m    189\u001b[0m \u001b[0;34m\u001b[0m\u001b[0m\n\u001b[1;32m    190\u001b[0m         \u001b[0;31m# If no theme we use the default\u001b[0m\u001b[0;34m\u001b[0m\u001b[0;34m\u001b[0m\u001b[0;34m\u001b[0m\u001b[0m\n",
      "\u001b[0;32m/Users/andrew/anaconda/lib/python3.6/site-packages/plotnine/ggplot.py\u001b[0m in \u001b[0;36m_build\u001b[0;34m(self)\u001b[0m\n\u001b[1;32m    286\u001b[0m         \u001b[0;31m# Compute aesthetics to produce data with generalised\u001b[0m\u001b[0;34m\u001b[0m\u001b[0;34m\u001b[0m\u001b[0;34m\u001b[0m\u001b[0m\n\u001b[1;32m    287\u001b[0m         \u001b[0;31m# variable names\u001b[0m\u001b[0;34m\u001b[0m\u001b[0;34m\u001b[0m\u001b[0;34m\u001b[0m\u001b[0m\n\u001b[0;32m--> 288\u001b[0;31m         \u001b[0mlayers\u001b[0m\u001b[0;34m.\u001b[0m\u001b[0mcompute_aesthetics\u001b[0m\u001b[0;34m(\u001b[0m\u001b[0mself\u001b[0m\u001b[0;34m)\u001b[0m\u001b[0;34m\u001b[0m\u001b[0;34m\u001b[0m\u001b[0m\n\u001b[0m\u001b[1;32m    289\u001b[0m \u001b[0;34m\u001b[0m\u001b[0m\n\u001b[1;32m    290\u001b[0m         \u001b[0;31m# Transform data using all scales\u001b[0m\u001b[0;34m\u001b[0m\u001b[0;34m\u001b[0m\u001b[0;34m\u001b[0m\u001b[0m\n",
      "\u001b[0;32m/Users/andrew/anaconda/lib/python3.6/site-packages/plotnine/layer.py\u001b[0m in \u001b[0;36mcompute_aesthetics\u001b[0;34m(self, plot)\u001b[0m\n\u001b[1;32m     80\u001b[0m     \u001b[0;32mdef\u001b[0m \u001b[0mcompute_aesthetics\u001b[0m\u001b[0;34m(\u001b[0m\u001b[0mself\u001b[0m\u001b[0;34m,\u001b[0m \u001b[0mplot\u001b[0m\u001b[0;34m)\u001b[0m\u001b[0;34m:\u001b[0m\u001b[0;34m\u001b[0m\u001b[0;34m\u001b[0m\u001b[0m\n\u001b[1;32m     81\u001b[0m         \u001b[0;32mfor\u001b[0m \u001b[0ml\u001b[0m \u001b[0;32min\u001b[0m \u001b[0mself\u001b[0m\u001b[0;34m:\u001b[0m\u001b[0;34m\u001b[0m\u001b[0;34m\u001b[0m\u001b[0m\n\u001b[0;32m---> 82\u001b[0;31m             \u001b[0ml\u001b[0m\u001b[0;34m.\u001b[0m\u001b[0mcompute_aesthetics\u001b[0m\u001b[0;34m(\u001b[0m\u001b[0mplot\u001b[0m\u001b[0;34m)\u001b[0m\u001b[0;34m\u001b[0m\u001b[0;34m\u001b[0m\u001b[0m\n\u001b[0m\u001b[1;32m     83\u001b[0m \u001b[0;34m\u001b[0m\u001b[0m\n\u001b[1;32m     84\u001b[0m     \u001b[0;32mdef\u001b[0m \u001b[0mcompute_statistic\u001b[0m\u001b[0;34m(\u001b[0m\u001b[0mself\u001b[0m\u001b[0;34m,\u001b[0m \u001b[0mlayout\u001b[0m\u001b[0;34m)\u001b[0m\u001b[0;34m:\u001b[0m\u001b[0;34m\u001b[0m\u001b[0;34m\u001b[0m\u001b[0m\n",
      "\u001b[0;32m/Users/andrew/anaconda/lib/python3.6/site-packages/plotnine/layer.py\u001b[0m in \u001b[0;36mcompute_aesthetics\u001b[0;34m(self, plot)\u001b[0m\n\u001b[1;32m    310\u001b[0m                     \u001b[0;32mexcept\u001b[0m \u001b[0mException\u001b[0m \u001b[0;32mas\u001b[0m \u001b[0me\u001b[0m\u001b[0;34m:\u001b[0m\u001b[0;34m\u001b[0m\u001b[0;34m\u001b[0m\u001b[0m\n\u001b[1;32m    311\u001b[0m                         raise PlotnineError(\n\u001b[0;32m--> 312\u001b[0;31m                             _TPL_EVAL_FAIL.format(ae, col, str(e)))\n\u001b[0m\u001b[1;32m    313\u001b[0m \u001b[0;34m\u001b[0m\u001b[0m\n\u001b[1;32m    314\u001b[0m                     \u001b[0;32mtry\u001b[0m\u001b[0;34m:\u001b[0m\u001b[0;34m\u001b[0m\u001b[0;34m\u001b[0m\u001b[0m\n",
      "\u001b[0;31mPlotnineError\u001b[0m: \"Could not evaluate the 'fill' mapping: 'rt_adjustment' (original error: name 'rt_adjustment' is not defined)\""
     ]
    }
   ],
   "source": [
    "plot = (ggplot(df)\n",
    "     + aes(x='addend1_s', y='addend2_s', fill='rt_adjustment')\n",
    "     + geom_tile()       \n",
    "     + scale_x_discrete(limits=sorted(df.addend1_s.unique()))\n",
    "     + scale_y_discrete(limits=sorted(df.addend2_s.unique()))\n",
    "     + coord_equal()\n",
    "     + scale_fill_gradientn(colors = ['blue', 'yellowgreen', 'yellow', 'orange', 'red'])\n",
    "     + labs(title='Mental Addition RT Adjustment (n={})'.format(len(raw_data)))\n",
    "     + theme(\n",
    "         figure_size=(12, 12),\n",
    "         panel_background=element_rect(fill='black'),\n",
    "         line=element_line(color='black'),\n",
    "         panel_border=element_blank()\n",
    "        )\n",
    "    )\n",
    "plot"
   ]
  },
  {
   "cell_type": "code",
   "execution_count": null,
   "metadata": {
    "collapsed": true
   },
   "outputs": [],
   "source": []
  }
 ],
 "metadata": {
  "kernelspec": {
   "display_name": "Python 3",
   "language": "python",
   "name": "python3"
  },
  "language_info": {
   "codemirror_mode": {
    "name": "ipython",
    "version": 3
   },
   "file_extension": ".py",
   "mimetype": "text/x-python",
   "name": "python",
   "nbconvert_exporter": "python",
   "pygments_lexer": "ipython3",
   "version": "3.6.8"
  },
  "widgets": {
   "state": {
    "23e18c78920a4a649f63e626341a6ecc": {
     "views": [
      {
       "cell_index": 9
      }
     ]
    },
    "25bab2a2a56b4e10a7207834b5a61bd1": {
     "views": [
      {
       "cell_index": 7
      }
     ]
    },
    "3daf1523d7644792ab64105200527cc5": {
     "views": [
      {
       "cell_index": 2
      }
     ]
    },
    "516c45b64c7a45418ae9f4da5cb9824c": {
     "views": [
      {
       "cell_index": 7
      }
     ]
    },
    "5f4d1337f01d44d6b17f7b0b76707c09": {
     "views": [
      {
       "cell_index": 13
      }
     ]
    },
    "68a45419fe444a4fb3f375d9ae961286": {
     "views": [
      {
       "cell_index": 7
      }
     ]
    },
    "8320517af12d4c58b3f157a02057bffd": {
     "views": [
      {
       "cell_index": 9
      }
     ]
    },
    "8a1a7cc934254f8da974c088bfa4b488": {
     "views": [
      {
       "cell_index": 9
      }
     ]
    },
    "919770a2568d4b2782a10f0e0d49683d": {
     "views": [
      {
       "cell_index": 7
      }
     ]
    },
    "a3ec17b490ae4289bf9ef7a5132267b2": {
     "views": [
      {
       "cell_index": 7
      }
     ]
    },
    "bc44ac67ea6c4964877b99c0484b0c15": {
     "views": [
      {
       "cell_index": 11
      }
     ]
    },
    "e4e484c38c174d33a594410c859b8070": {
     "views": [
      {
       "cell_index": 11
      }
     ]
    }
   },
   "version": "1.2.0"
  }
 },
 "nbformat": 4,
 "nbformat_minor": 2
}
